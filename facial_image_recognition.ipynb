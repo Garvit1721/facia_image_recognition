{
  "nbformat": 4,
  "nbformat_minor": 0,
  "metadata": {
    "colab": {
      "provenance": [],
      "gpuType": "T4",
      "authorship_tag": "ABX9TyNfarsuzVzywWlHRBZqafoe",
      "include_colab_link": true
    },
    "kernelspec": {
      "name": "python3",
      "display_name": "Python 3"
    },
    "language_info": {
      "name": "python"
    },
    "accelerator": "GPU"
  },
  "cells": [
    {
      "cell_type": "markdown",
      "metadata": {
        "id": "view-in-github",
        "colab_type": "text"
      },
      "source": [
        "<a href=\"https://colab.research.google.com/github/Garvit1721/facia_image_recognition/blob/main/facial_image_recognition.ipynb\" target=\"_parent\"><img src=\"https://colab.research.google.com/assets/colab-badge.svg\" alt=\"Open In Colab\"/></a>"
      ]
    },
    {
      "cell_type": "code",
      "execution_count": null,
      "metadata": {
        "colab": {
          "base_uri": "https://localhost:8080/"
        },
        "id": "nwEYuFB9iifB",
        "outputId": "fe2a92d5-5a94-46fb-a480-2cd71324f767"
      },
      "outputs": [
        {
          "output_type": "stream",
          "name": "stdout",
          "text": [
            "Cloning into 'facial_expressions'...\n",
            "remote: Enumerating objects: 14214, done.\u001b[K\n",
            "remote: Total 14214 (delta 0), reused 0 (delta 0), pack-reused 14214\u001b[K\n",
            "Receiving objects: 100% (14214/14214), 239.65 MiB | 12.69 MiB/s, done.\n",
            "Resolving deltas: 100% (223/223), done.\n",
            "Updating files: 100% (13996/13996), done.\n"
          ]
        }
      ],
      "source": [
        "!git clone https://github.com/muxspace/facial_expressions.git"
      ]
    },
    {
      "cell_type": "code",
      "source": [
        "import csv\n",
        "data = {}\n",
        "with open('/content/facial_expressions/data/legend.csv') as f:\n",
        "  reader = csv.reader(f)\n",
        "  next(reader)\n",
        "  for row in reader :\n",
        "    key = row[2].lower()\n",
        "    if key in data :\n",
        "      data[key].append(row[1])\n",
        "    else :\n",
        "      data[key] = [row[1]]"
      ],
      "metadata": {
        "id": "sL8Xe3jZi5g1"
      },
      "execution_count": null,
      "outputs": []
    },
    {
      "cell_type": "code",
      "source": [
        "emotion_list = list(data.keys())\n",
        "emotion_list"
      ],
      "metadata": {
        "colab": {
          "base_uri": "https://localhost:8080/"
        },
        "id": "jtK8WzNslf7f",
        "outputId": "06adcac7-f3f9-42c6-f0d1-8c1361dc49e6"
      },
      "execution_count": null,
      "outputs": [
        {
          "output_type": "execute_result",
          "data": {
            "text/plain": [
              "['anger',\n",
              " 'surprise',\n",
              " 'disgust',\n",
              " 'fear',\n",
              " 'neutral',\n",
              " 'happiness',\n",
              " 'sadness',\n",
              " 'contempt']"
            ]
          },
          "metadata": {},
          "execution_count": 3
        }
      ]
    },
    {
      "cell_type": "code",
      "source": [
        "import os\n",
        "os.mkdir('master_data')\n",
        "os.mkdir('master_data/training')\n",
        "os.mkdir('master_data/testing')"
      ],
      "metadata": {
        "id": "Chy6UnYHmAxI"
      },
      "execution_count": null,
      "outputs": []
    },
    {
      "cell_type": "code",
      "source": [
        "for emotion in emotion_list:\n",
        "  os.mkdir(os.path.join('master_data/training',emotion))\n",
        "  os.mkdir(os.path.join('master_data/testing',emotion))"
      ],
      "metadata": {
        "id": "xfIq0GGkmR9i"
      },
      "execution_count": null,
      "outputs": []
    },
    {
      "cell_type": "markdown",
      "source": [],
      "metadata": {
        "id": "p3fGUeY4oolE"
      }
    },
    {
      "cell_type": "code",
      "source": [
        "import os\n",
        "import shutil\n",
        "\n",
        "split_size = 0.8\n",
        "\n",
        "for emotion, images in data.items():\n",
        "    train_size = int(split_size * len(images))\n",
        "    train_images = images[:train_size]\n",
        "    test_images = images[train_size:]\n",
        "\n",
        "    for image in train_images:\n",
        "        source = os.path.join('/content/facial_expressions/images', image)\n",
        "        dest = os.path.join('/content/master_data/training', emotion, os.path.basename(image))\n",
        "        shutil.copyfile(source, dest)\n",
        "\n",
        "    for image in test_images:\n",
        "        source = os.path.join('/content/facial_expressions/images', image)\n",
        "        dest = os.path.join('/content/master_data/testing', emotion, os.path.basename(image))\n",
        "        shutil.copyfile(source, dest)\n"
      ],
      "metadata": {
        "id": "hx61ICSHmqXR"
      },
      "execution_count": null,
      "outputs": []
    },
    {
      "cell_type": "code",
      "source": [
        "import tensorflow as tf\n",
        "from keras.preprocessing.image import ImageDataGenerator\n",
        "from keras.optimizers import Adam\n",
        "from keras.callbacks import EarlyStopping\n",
        "from keras.layers import Conv2D,MaxPooling2D,Dense,Flatten\n",
        "from keras.models import Sequential"
      ],
      "metadata": {
        "id": "kq5cM3NBmrZQ"
      },
      "execution_count": null,
      "outputs": []
    },
    {
      "cell_type": "code",
      "source": [
        "model = Sequential()\n",
        "layer1 = Conv2D(16,(3,3),activation='relu',input_shape=(100,100,3))\n",
        "model.add(layer1)\n",
        "layer2 = MaxPooling2D(2,2)\n",
        "model.add(layer2)\n",
        "layer3 = Conv2D(32,(3,3),activation='relu')\n",
        "model.add(layer3)\n",
        "layer = MaxPooling2D(2,2)\n",
        "model.add(layer)\n",
        "layer4 = Conv2D(64,(3,3),activation='relu')\n",
        "model.add(layer4)\n",
        "layer5 = MaxPooling2D(2,2)\n",
        "model.add(layer5)\n",
        "layer6 = Flatten()\n",
        "model.add(layer6)\n",
        "layer7 = Dense(512,activation='relu')\n",
        "model.add(layer7)\n",
        "layer8 = Dense(8,activation='softmax')\n",
        "model.add(layer8)"
      ],
      "metadata": {
        "id": "oO2UeAmarCW-"
      },
      "execution_count": null,
      "outputs": []
    },
    {
      "cell_type": "code",
      "source": [
        "model.compile(optimizer=Adam(lr=0.01),loss='categorical_crossentropy',metrics=['acc'])\n",
        "model.summary()"
      ],
      "metadata": {
        "colab": {
          "base_uri": "https://localhost:8080/"
        },
        "id": "FgcfacQRyZrb",
        "outputId": "417f8811-482f-4db7-9b49-e9acb665f920"
      },
      "execution_count": null,
      "outputs": [
        {
          "output_type": "stream",
          "name": "stderr",
          "text": [
            "WARNING:absl:`lr` is deprecated in Keras optimizer, please use `learning_rate` or use the legacy optimizer, e.g.,tf.keras.optimizers.legacy.Adam.\n"
          ]
        },
        {
          "output_type": "stream",
          "name": "stdout",
          "text": [
            "Model: \"sequential_3\"\n",
            "_________________________________________________________________\n",
            " Layer (type)                Output Shape              Param #   \n",
            "=================================================================\n",
            " conv2d_6 (Conv2D)           (None, 98, 98, 16)        448       \n",
            "                                                                 \n",
            " max_pooling2d_5 (MaxPoolin  (None, 49, 49, 16)        0         \n",
            " g2D)                                                            \n",
            "                                                                 \n",
            " conv2d_7 (Conv2D)           (None, 47, 47, 32)        4640      \n",
            "                                                                 \n",
            " max_pooling2d_6 (MaxPoolin  (None, 23, 23, 32)        0         \n",
            " g2D)                                                            \n",
            "                                                                 \n",
            " conv2d_8 (Conv2D)           (None, 21, 21, 64)        18496     \n",
            "                                                                 \n",
            " max_pooling2d_7 (MaxPoolin  (None, 10, 10, 64)        0         \n",
            " g2D)                                                            \n",
            "                                                                 \n",
            " flatten_2 (Flatten)         (None, 6400)              0         \n",
            "                                                                 \n",
            " dense_4 (Dense)             (None, 512)               3277312   \n",
            "                                                                 \n",
            " dense_5 (Dense)             (None, 8)                 4104      \n",
            "                                                                 \n",
            "=================================================================\n",
            "Total params: 3305000 (12.61 MB)\n",
            "Trainable params: 3305000 (12.61 MB)\n",
            "Non-trainable params: 0 (0.00 Byte)\n",
            "_________________________________________________________________\n"
          ]
        }
      ]
    },
    {
      "cell_type": "code",
      "source": [
        "train_dir = '/content/master_data/training'\n",
        "test_dir = '/content/master_data/testing'\n",
        "\n",
        "train_datagen = ImageDataGenerator(rescale=1.0/255)\n",
        "train_generator = train_datagen.flow_from_directory(\n",
        "    train_dir,\n",
        "    target_size=(100,100),\n",
        "    class_mode='categorical',\n",
        "    batch_size=128\n",
        ")\n",
        "test_datagen = ImageDataGenerator(rescale=1.0/255)\n",
        "test_generator = test_datagen.flow_from_directory(\n",
        "    test_dir,\n",
        "    target_size=(100,100),\n",
        "    class_mode='categorical',\n",
        "    batch_size=128\n",
        ")"
      ],
      "metadata": {
        "colab": {
          "base_uri": "https://localhost:8080/"
        },
        "id": "JIV0MNkZy-pc",
        "outputId": "deafdc71-6ede-4e06-c93f-46dda3b38dc3"
      },
      "execution_count": null,
      "outputs": [
        {
          "output_type": "stream",
          "name": "stdout",
          "text": [
            "Found 10941 images belonging to 8 classes.\n",
            "Found 2742 images belonging to 8 classes.\n"
          ]
        }
      ]
    },
    {
      "cell_type": "code",
      "source": [
        "es = EarlyStopping(monitor='val_acc',patience=2,min_delta=0.01)"
      ],
      "metadata": {
        "id": "IAedWD9q071l"
      },
      "execution_count": null,
      "outputs": []
    },
    {
      "cell_type": "code",
      "source": [
        "model.fit_generator(\n",
        "    train_generator,\n",
        "    epochs=10,\n",
        "    verbose=1,\n",
        "    validation_data=test_generator,\n",
        "    callbacks=[es]\n",
        ")"
      ],
      "metadata": {
        "colab": {
          "base_uri": "https://localhost:8080/"
        },
        "id": "7Hedj3L918uv",
        "outputId": "f400c9e7-3984-4357-e26d-e189e4d40635"
      },
      "execution_count": null,
      "outputs": [
        {
          "output_type": "stream",
          "name": "stderr",
          "text": [
            "<ipython-input-19-c75d829bc7ea>:1: UserWarning: `Model.fit_generator` is deprecated and will be removed in a future version. Please use `Model.fit`, which supports generators.\n",
            "  model.fit_generator(\n"
          ]
        },
        {
          "output_type": "stream",
          "name": "stdout",
          "text": [
            "Epoch 1/10\n",
            "86/86 [==============================] - 19s 220ms/step - loss: 0.2241 - acc: 0.9185 - val_loss: 2.0648 - val_acc: 0.6674\n",
            "Epoch 2/10\n",
            "86/86 [==============================] - 16s 191ms/step - loss: 0.1782 - acc: 0.9350 - val_loss: 2.6998 - val_acc: 0.6543\n",
            "Epoch 3/10\n",
            "86/86 [==============================] - 16s 191ms/step - loss: 0.1607 - acc: 0.9400 - val_loss: 2.7889 - val_acc: 0.6670\n"
          ]
        },
        {
          "output_type": "execute_result",
          "data": {
            "text/plain": [
              "<keras.src.callbacks.History at 0x7dab625833d0>"
            ]
          },
          "metadata": {},
          "execution_count": 19
        }
      ]
    }
  ]
}